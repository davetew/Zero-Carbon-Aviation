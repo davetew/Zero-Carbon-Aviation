{
  "nbformat": 4,
  "nbformat_minor": 0,
  "metadata": {
    "colab": {
      "name": "Electric-Propulsion.ipynb",
      "version": "0.3.2",
      "provenance": [],
      "collapsed_sections": [],
      "include_colab_link": true
    },
    "kernelspec": {
      "display_name": "Python 3",
      "language": "python",
      "name": "python3"
    }
  },
  "cells": [
    {
      "cell_type": "markdown",
      "metadata": {
        "id": "view-in-github",
        "colab_type": "text"
      },
      "source": [
        "<a href=\"https://colab.research.google.com/github/davetew/Zero-Carbon-Aviation/blob/master/Electric_Propulsion.ipynb\" target=\"_parent\"><img src=\"https://colab.research.google.com/assets/colab-badge.svg\" alt=\"Open In Colab\"/></a>"
      ]
    },
    {
      "metadata": {
        "id": "hcVHGUNF_1Z2",
        "colab_type": "text"
      },
      "cell_type": "markdown",
      "source": [
        "# Zero-Carbon Aircraft Propulsion and Energy Storage System Options\n",
        "This notebook contains an assessment of the viability of several zero-carbon commerical aircraft combined energy storage and propulsion system options.\n",
        "\n",
        "## Energy Storage\n",
        "The energy storage options to be considered include--\n",
        "1.   Batteries \\\\\n",
        "    a.  [Lithium Ion](https://en.wikipedia.org/wiki/Lithium-ion_battery) \\\\\n",
        "    b.  [Lithium Air](https://en.wikipedia.org/wiki/Lithium–air_battery)\n",
        "    \n",
        "2.   Fuels \\\\\n",
        "    a.  Bio-Kerosene \\\\\n",
        "    b.  Ammonia \\\\\n",
        "    c.  Hydrogen\n",
        "    \n",
        "3.  Nuclear \\\\\n",
        "    a.  Thorium-232 \\\\\n",
        "    b.  TBD\n",
        "\n",
        "## Propulsion System\n",
        "In this context, the propulsion system consists of the chemical/nuclear to shaft power energy conversion system and the propulsor that converts the shaft power into aircraft thrust.\n",
        "\n",
        "The chemical/nuclear to shaft power propulsion system options that will be considered include--\n",
        "1.  Open Brayton cycle gas turbines,\n",
        "2.  Closed Brayton cycles (e.g. $sCO_{2}$ cycles),\n",
        "3.  Fuel cells with electric motors,\n",
        "4.  Batteries with electric motors, and\n",
        "5.  Hybrid cycles using the above technologies that leverage both fuel and battery energy storage systems.\n",
        "\n",
        "The propulsor options that will be considered include--\n",
        "1.  Ducted fans, and\n",
        "2.  Unducted fans.\n"
      ]
    },
    {
      "metadata": {
        "id": "IKAuAKOn_1Z5",
        "colab_type": "code",
        "colab": {}
      },
      "cell_type": "code",
      "source": [
        "\"\"\"Import the required modules\"\"\"\n",
        "import numpy as np\n",
        "import pandas as pd\n",
        "import matplotlib.pyplot as plt\n",
        "\n",
        "from IPython.display import Markdown\n",
        "\n",
        "# Mount Googe drive\n",
        "# from google.colab import drive\n",
        "# drive.mount('/content/drive/')\n",
        "\n",
        "# Install Cantera & import module\n",
        "!apt-add-repository ppa:speth/cantera\n",
        "!apt-get install cantera-python3\n",
        "\n",
        "import cantera as ct"
      ],
      "execution_count": 0,
      "outputs": []
    },
    {
      "metadata": {
        "id": "0lW2eRdHJTKH",
        "colab_type": "code",
        "outputId": "87888cbc-0ea0-4a9b-d09d-67bf915610bf",
        "colab": {
          "base_uri": "https://localhost:8080/",
          "height": 1205
        }
      },
      "cell_type": "code",
      "source": [
        "\"\"\"Create pandas dataframe with reaction Gibbs Free Energy and Enthalpy for the various energy storage options\"\"\"\n",
        "\n",
        "# List available Cantera property data files\n",
        "#!ls /usr/lib/python3/dist-packages/cantera/data\n",
        "\n",
        "# Lithium Ion Battery\n",
        "# test = ct.Solution('lithium_ion_battery.cti')\n",
        "\n",
        "# Lithium Air Battery\n",
        "\n",
        "# Bio-kerosene\n",
        "jetA_cti = '''ideal_gas(name='jetAmix',\n",
        "      elements='C O H N',\n",
        "      species='nasa_gas:Jet-A(g) H2O CO2 O2 N2 CO NO NO2')'''\n",
        "biok = ct.Solution(source=jetA_cti)\n",
        "biok()\n",
        "\n",
        "# Ammonia\n",
        "nh3_cti = '''ideal_gas(name='gas', \n",
        "      elements='C O H N',\n",
        "      species='nasa_gas:Jet-A(g) H2O O2 N2 NO NO2')'''\n",
        "nh3 = ct.Solution(source=nh3_cti)\n",
        "nh3()\n",
        "\n",
        "# Hydrogen\n",
        "h2o2 = ct.Solution('h2o2.cti')\n",
        "h2o2()"
      ],
      "execution_count": 0,
      "outputs": [
        {
          "output_type": "stream",
          "text": [
            "\n",
            "  jetAmix:\n",
            "\n",
            "       temperature           0.001  K\n",
            "          pressure     4.96936e-05  Pa\n",
            "           density           0.001  kg/m^3\n",
            "  mean mol. weight         167.315  amu\n",
            "\n",
            "                          1 kg            1 kmol\n",
            "                       -----------      ------------\n",
            "          enthalpy     -1.7846e+06       -2.986e+08     J\n",
            "   internal energy     -1.7846e+06       -2.986e+08     J\n",
            "           entropy          1708.2        2.858e+05     J/K\n",
            "    Gibbs function     -1.7846e+06       -2.986e+08     J\n",
            " heat capacity c_p          103.71        1.735e+04     J/K\n",
            " heat capacity c_v           54.02             9038     J/K\n",
            "\n",
            "                           X                 Y          Chem. Pot. / RT\n",
            "                     -------------     ------------     ------------\n",
            "          Jet-A(g)              1                1     -3.59128e+07\n",
            "     [   +7 minor]              0                0\n",
            "\n",
            "\n",
            "  gas:\n",
            "\n",
            "       temperature           0.001  K\n",
            "          pressure     4.96936e-05  Pa\n",
            "           density           0.001  kg/m^3\n",
            "  mean mol. weight         167.315  amu\n",
            "\n",
            "                          1 kg            1 kmol\n",
            "                       -----------      ------------\n",
            "          enthalpy     -1.7846e+06       -2.986e+08     J\n",
            "   internal energy     -1.7846e+06       -2.986e+08     J\n",
            "           entropy          1708.2        2.858e+05     J/K\n",
            "    Gibbs function     -1.7846e+06       -2.986e+08     J\n",
            " heat capacity c_p          103.71        1.735e+04     J/K\n",
            " heat capacity c_v           54.02             9038     J/K\n",
            "\n",
            "                           X                 Y          Chem. Pot. / RT\n",
            "                     -------------     ------------     ------------\n",
            "          Jet-A(g)              1                1     -3.59128e+07\n",
            "     [   +5 minor]              0                0\n",
            "\n",
            "\n",
            "  ohmech:\n",
            "\n",
            "       temperature             300  K\n",
            "          pressure          101325  Pa\n",
            "           density       0.0818891  kg/m^3\n",
            "  mean mol. weight         2.01588  amu\n",
            "\n",
            "                          1 kg            1 kmol\n",
            "                       -----------      ------------\n",
            "          enthalpy           26470        5.336e+04     J\n",
            "   internal energy     -1.2109e+06       -2.441e+06     J\n",
            "           entropy           64914        1.309e+05     J/K\n",
            "    Gibbs function     -1.9448e+07        -3.92e+07     J\n",
            " heat capacity c_p           14312        2.885e+04     J/K\n",
            " heat capacity c_v           10187        2.054e+04     J/K\n",
            "\n",
            "                           X                 Y          Chem. Pot. / RT\n",
            "                     -------------     ------------     ------------\n",
            "                H2              1                1         -15.7173\n",
            "     [   +8 minor]              0                0\n",
            "\n"
          ],
          "name": "stdout"
        }
      ]
    },
    {
      "metadata": {
        "id": "LLiVUpmK_1aA",
        "colab_type": "code",
        "colab": {}
      },
      "cell_type": "code",
      "source": [
        "\"\"\"Unit conversion constants & associated conversion function\"\"\"\n",
        "\n",
        "import scipy.constants as constants\n",
        "\n",
        "def unit2SI(nonSIunit):\n",
        "    \"\"\"Convert input quantity (value, units) to SI units and return (value, SI units)\"\"\"\n",
        "    \n",
        "    # Check for temperature\n",
        "    if nonSIunit[1].lower() in ['c','celsius','k','kelvin','f','fahrenheit','r','rankine']:\n",
        "        SIvalue, SIunit = constants.convert_temperature(nonSIunit[0], nonSIunit[1], 'K'), 'K'\n",
        "        \n",
        "    elif nonSIunit[1] in ['m','s','Pa','kg','kg/m3','$']:\n",
        "        SIvalue, SIunit = nonSIunit[0], nonSIunit[1]\n",
        "\n",
        "    elif nonSIunit[1] in ['MJ','MJ/kg','MW']:\n",
        "        SIvalue, SIunit = nonSIunit[0] * 1e6, nonSIunit[1][1:]\n",
        "        \n",
        "    elif nonSIunit[1] in ['km', 'kN', '$/L']:\n",
        "        SIvalue = nonSIunit[0] * 1000, 'm'\n",
        "    \n",
        "    elif nonSIunit[1] in ['l', 'L', 'mm', '$/kW']:\n",
        "        SIvalue = nonSIunit[0] / 1000\n",
        "        \n",
        "    elif nonSIunit[1] in ['g/s/kN','g/kN/s', '$/MW']:\n",
        "        SIvalue = nonSIunit[0] / 1e6\n",
        "        \n",
        "    elif nonSIunit[1] in ['gallons','gal']:\n",
        "        # Convert gallons to cubic meters\n",
        "        SIvalue = nonSIunit[0] * constants.gallon\n",
        "        \n",
        "    elif nonSIunit[1] in ['barrels','barrel']:\n",
        "        # Convert barrels to cubic meters\n",
        "        SIvalue = nonSIunit[0] * 42 * constants.gallon  \n",
        "        \n",
        "    else:\n",
        "        SIvalue = nonSIunit[0] * getattr(constants,nonSIunit[1])\n",
        "        \n",
        "    return SIvalue"
      ],
      "execution_count": 0,
      "outputs": []
    },
    {
      "metadata": {
        "colab_type": "text",
        "id": "JLZj4GcQa_UH"
      },
      "cell_type": "markdown",
      "source": [
        "## Aircraft Performance Data\n",
        "Performance data for 'representative' aircraft from four different aircraft classes are stored in the JSON-format-like `AircraftData` dictionary.  These aircraft include the following commercial aircraft--\n",
        "1.  A turboprop [Bomardier Dash 8-Q400](https://en.wikipedia.org/wiki/Bombardier_Dash_8),\n",
        "2.  A regional jet [Airbus A220-300](https://www.airbus.com/aircraft/passenger-aircraft/a220-family/a220-300.html),\n",
        "3.  A single aisle [Boeing 737 MAX 8](https://en.wikipedia.org/wiki/Boeing_737_MAX), and\n",
        "4.  A twin aisle [Boeing 777X](https://en.wikipedia.org/wiki/Boeing_777X).\n",
        "\n",
        "The data provided include the following types of information--\n",
        "1. Weight,\n",
        "2. Wing geometry,\n",
        "3. Cruise speed and/or Mach number,\n",
        "3. Payload (fuel & passengers),\n",
        "4. Cost,\n",
        "5. Engines.\n",
        "\n",
        "More detailed information on these characteristics is provided below.\n",
        "\n",
        "### Weight\n",
        "When available, four different weights are recorded within the dictionary.  These weight include--\n",
        "1. Maximum Gross Take-Off Weight ($MTOW$),\n",
        "2. Maximum Zero Fuel Weight ($MZFW$),\n",
        "3. Operating Empty Weight ($OEW$), and\n",
        "4. Maximum Landing Weight ($MLW$),\n",
        "\n",
        "$MTOW$ is the maximum authorized weight at brake release.  $TOW$ is the actual take-off weight, which may be calculated from the below expression.\n",
        "\n",
        "$$TOW = OEW + PL + FW$$\n",
        "\n",
        "$$TOW \\leq MTOW$$\n",
        "\n",
        "$PL$ is the payload weight, and $FW$ is the fuel weight.  $OEW$ is the operating empty weight of the aircraft; it includes the weight of the aircraft structure ($SW$) and the weight of the propulsion system ($PW$)--\n",
        "\n",
        "$$OEW = SW + PW$$\n",
        "\n",
        "$MZFW$ is the maximum aircraft weight before fuel and other consumable propulsion system agents are loaded onto the aircraft.\n",
        "\n",
        "$$MZFW = OEW + PL_{max}$$\n",
        "\n",
        "$PL_{max}$ is the maximum payload.\n",
        "\n",
        "In this context, the payload weight ($PL$) includes passengers, luggage, cargo, crew, food, beverages and related supplies.  Also, the fuel weight ($FW$) is assumed to include all propulsion-related consumables (e.g. fuel, oil).\n",
        "\n",
        "For purposes of the propulsion and energy storage system analyses anticipated in this notebook, the aircraft considered will be assumed to take-off at their maximum take-off weight ($MTOW$) with their maximum payloads ($PL_{max}$). \n",
        "\n",
        "\\begin{align}\n",
        "MTOW & = OEW + PL_{max} + FW \\\\\n",
        "& = SW + PW + PL_{max} + FW \\\\\n",
        "& = SW + PL_{max} + PW + FW\n",
        "\\end{align}\n",
        "\n",
        "The maximum payload is calculated from the available $MZFW$ and $OEW$ data--\n",
        "\n",
        "$$PL_{max} = MZFW - OEW$$\n",
        "\n",
        "Also, the fuel weight will be calculated from the available $MTOW$ and $OEW$ and the calculated $PL_{max}$.\n",
        "\n",
        "$$FW = MTOW - OEW - PL_{max}$$\n",
        "\n",
        "The propulsion system weight ($PW$) will be estimated from the engine data contained within the dictionary.  However, this weight is likely an underestimate of the weight as it is likely not inclusive of the engine nacelle and pylon.\n",
        "\n",
        "\n",
        "\n",
        "\n",
        "\n",
        "\n"
      ]
    },
    {
      "metadata": {
        "id": "6S4SrPFPAwIx",
        "colab_type": "code",
        "colab": {}
      },
      "cell_type": "code",
      "source": [
        "\"\"\"Aircraft Data is a JSON-like nested dictionary that contains data of interest for range and performance\n",
        "calculations for selected aircraft.\"\"\"\n",
        "AircraftData = {'Empty':  {'Weight': {'Max Take Off': (None,'kg'),\n",
        "                                         'Max Landing': (None,'kg'),\n",
        "                                         'Max Zero Fuel': (None, 'kg'),\n",
        "                                         'Operating Empty': (None,'kg')},\n",
        "                             'Cruise Mach': None,\n",
        "                             'Cruise Speed': (None, 'kmh'),\n",
        "                             'Wing Area': (None, 'm2'),\n",
        "                             'Wing Span': (None,'m'),\n",
        "                             'Fuel Capacity': (None,'L'),\n",
        "                             'Range': (None,'km'),\n",
        "                             'Max Seats': None,\n",
        "                             'Cost': (None,'$'), \n",
        "                             'Engines': {'Type': None,\n",
        "                                         'Number': None,\n",
        "                                         'OPR': None,\n",
        "                                         'BPR': None,\n",
        "                                         'TSFC': (None,'g/kN/s'),\n",
        "                                         'Fan Diameter': (None,'m'),\n",
        "                                         'Weight': (None,'kg'),\n",
        "                                         'Cost': ( None,'$'),\n",
        "                                         'Thrust': {'Take Off': (None,'kN'),\n",
        "                                                    'Max Continuous': (None,'kN')},\n",
        "                                                    'Reference': None},\n",
        "                                         'Reference': None}}"
      ],
      "execution_count": 0,
      "outputs": []
    },
    {
      "metadata": {
        "id": "Xsz7mTfGvW0s",
        "colab_type": "code",
        "colab": {}
      },
      "cell_type": "code",
      "source": [
        "\"\"\"Bombardier Dash 8\"\"\"\n",
        "AircraftData['Dash-8-Q400'] = {'Weight': {'Max Take Off': (29260,'kg'),\n",
        "                                         'Max Landing': (28010,'kg'),\n",
        "                                         'Max Zero Fuel': (25850, 'kg'),\n",
        "                                         'Operating Empty': (17110,'kg')},\n",
        "                             'Cruise Mach': None,\n",
        "                             'Cruise Speed': (667, 'kmh'),\n",
        "                             'Wing Area': (63.1, 'm2'),\n",
        "                             'Wing Span': (28.4,'m'),\n",
        "                             'Fuel Capacity': (6530,'L'),\n",
        "                             'Range': (2500,'km'),\n",
        "                             'Max Seats': 78,\n",
        "                             'Cost': (32.2e6,'$'), \n",
        "                             'Engines': {'Type': 'PW150A',\n",
        "                                         'Number': 2,\n",
        "                                         'OPR': None,\n",
        "                                         'BPR': None,\n",
        "                                         'TSFC': (None,'g/kN/s'),\n",
        "                                         'Fan Diameter': (None,'m'),\n",
        "                                         'Weight': (None,'kg'),\n",
        "                                         'Cost': ( None,'$'),\n",
        "                                         'Thrust': {'Take Off': (None,'kN'),\n",
        "                                                    'Max Continuous': (None,'kN')},\n",
        "                                                    'Reference': None},\n",
        "                                         'Reference': 'https://www.airlines-inform.com/commercial-aircraft/Dash-8Q400.html'}"
      ],
      "execution_count": 0,
      "outputs": []
    },
    {
      "metadata": {
        "id": "W0ZzNSBPJSvP",
        "colab_type": "code",
        "colab": {}
      },
      "cell_type": "code",
      "source": [
        "\"\"\"Airbus A220 Regional Jet (Formerly Bombardier C Series Aircraft Limited)\"\"\"\n",
        "AircraftData['A220-300'] = {'Weight': {'Max Take Off': (67600,'kg'),\n",
        "                                         'Max Landing': (58700,'kg'),\n",
        "                                         'Max Zero Fuel': (55800, 'kg'),\n",
        "                                         'Operating Empty': (37081,'kg')},\n",
        "                             'Cruise Mach': 0.82,\n",
        "                             'Cruise Speed': (829, 'kmh'),\n",
        "                             'Wing Area': (112.3, 'm2'),\n",
        "                             'Wing Span': (35.1,'m'),\n",
        "                             'Fuel Capacity': (21918,'L'),\n",
        "                             'Range': (5920,'km'),\n",
        "                             'Max Seats': 160,\n",
        "                             'Cost': (89.5e6,'$'), \n",
        "                             'Engines': {'Type': 'PW1500G',\n",
        "                                         'Number': 2,\n",
        "                                         'OPR': None,\n",
        "                                         'BPR': 12,\n",
        "                                         'TSFC': (None,'g/kN/s'),\n",
        "                                         'Fan Diameter': (1.85,'m'),\n",
        "                                         'Weight': (2177,'kg'),\n",
        "                                         'Cost': ( 12e6,'$'),\n",
        "                                         'Thrust': {'Take Off': (108.54,'kN'), # 24/25 G\n",
        "                                                    'Max Continuous': (None,'kN')},\n",
        "                                                    'Reference': None},\n",
        "                                         'Reference': 'https://www.airbus.com/aircraft/passenger-aircraft/a220-family/a220-300.html'}"
      ],
      "execution_count": 0,
      "outputs": []
    },
    {
      "metadata": {
        "id": "W6XgUb-r_1aH",
        "colab_type": "code",
        "colab": {}
      },
      "cell_type": "code",
      "source": [
        "\"\"\"Boeing 737 Max 8 - Single Aisle\"\"\"\n",
        "AircraftData['737 Max 8'] = {'Weight': {'Max Take Off': (82191,'kg'),\n",
        "                                         'Max Landing': (69309,'kg'),\n",
        "                                         'Max Zero Fuel': (65952, 'kg'),\n",
        "                                         'Operating Empty': (45070,'kg')},\n",
        "                             'Cruise Mach': 0.79,\n",
        "                             'Cruise Speed': (839, 'kmh'),\n",
        "                             'Wing Area': (127, 'm2'),\n",
        "                             'Wing Span': (35.92,'m'),\n",
        "                             'Fuel Capacity': (25817,'L'),\n",
        "                             'Range': (6570,'km'),\n",
        "                             'Max Seats': 210,\n",
        "                             'Cost': (117.1e6,'$'), \n",
        "                             'Engines': {'Type': 'CFM International LEAP 1B',\n",
        "                                         'Number': 2,\n",
        "                                         'OPR': 40,\n",
        "                                         'BPR': 9,\n",
        "                                         'TSFC': (12,'g/kN/s'),\n",
        "                                         'Fan Diameter': (1.76,'m'),\n",
        "                                         'Weight': (2780,'kg'),\n",
        "                                         'Cost': ( 14.5e6,'$'),\n",
        "                                         'Thrust': {'Take Off': (130.41,'kN'),\n",
        "                                                    'Max Continuous': (127.62,'kN')},\n",
        "                                                    'Reference': 'https://en.wikipedia.org/wiki/CFM_International_LEAP#cite_note-LEAP_Brochure-42'},\n",
        "                                         'Reference': 'https://en.wikipedia.org/wiki/Boeing_737_MAX'}"
      ],
      "execution_count": 0,
      "outputs": []
    },
    {
      "metadata": {
        "id": "2er4WRaWAK5D",
        "colab_type": "code",
        "colab": {}
      },
      "cell_type": "code",
      "source": [
        "\"\"\"Boeing 777X\"\"\"\n",
        "AircraftData['777-9X'] = {'Weight': {'Max Take Off': (351500,'kg'),\n",
        "                                         'Max Landing': (266000,'kg'),\n",
        "                                         'Max Zero Fuel': (255000, 'kg'),\n",
        "                                         'Operating Empty': (181400,'kg')},\n",
        "                             'Cruise Mach': None,\n",
        "                             'Cruise Speed': (900, 'kmh'),\n",
        "                             'Wing Area': (466.8, 'm2'),\n",
        "                             'Wing Span': (71.8,'m'),\n",
        "                             'Fuel Capacity': (198000,'L'),\n",
        "                             'Range': (14000,'km'),\n",
        "                             'Max Seats': 414,\n",
        "                             'Cost': (None,'$'), \n",
        "                             'Engines': {'Type': 'GE9X-105B1A',\n",
        "                                         'Number': 2,\n",
        "                                         'OPR': 61,\n",
        "                                         'BPR': 10,\n",
        "                                         'TSFC': (None,'g/kN/s'),\n",
        "                                         'Fan Diameter': (3.39,'m'),\n",
        "                                         'Weight': (40000/2.2,'kg'),\n",
        "                                         'Cost': ( None,'$'),\n",
        "                                         'Thrust': {'Take Off': (470,'kN'),\n",
        "                                                    'Max Continuous': (None,'kN')},\n",
        "                                                    'Reference': 'https://en.wikipedia.org/wiki/General_Electric_GE9X'},\n",
        "                                         'Reference': 'https://en.wikipedia.org/wiki/Boeing_777X'}"
      ],
      "execution_count": 0,
      "outputs": []
    },
    {
      "metadata": {
        "id": "1P8krzHaaxDJ",
        "colab_type": "code",
        "outputId": "cd2dbb0f-5da6-435a-e75d-dcfd15b6be54",
        "colab": {
          "base_uri": "https://localhost:8080/",
          "height": 772
        }
      },
      "cell_type": "code",
      "source": [
        "AircraftDataFrame = pd.DataFrame.from_dict(AircraftData)\n",
        "display(AircraftDataFrame)"
      ],
      "execution_count": 0,
      "outputs": [
        {
          "output_type": "display_data",
          "data": {
            "text/html": [
              "<div>\n",
              "<style scoped>\n",
              "    .dataframe tbody tr th:only-of-type {\n",
              "        vertical-align: middle;\n",
              "    }\n",
              "\n",
              "    .dataframe tbody tr th {\n",
              "        vertical-align: top;\n",
              "    }\n",
              "\n",
              "    .dataframe thead th {\n",
              "        text-align: right;\n",
              "    }\n",
              "</style>\n",
              "<table border=\"1\" class=\"dataframe\">\n",
              "  <thead>\n",
              "    <tr style=\"text-align: right;\">\n",
              "      <th></th>\n",
              "      <th>737 Max 8</th>\n",
              "      <th>777-9X</th>\n",
              "      <th>A220-300</th>\n",
              "      <th>Dash-8-Q400</th>\n",
              "      <th>Empty</th>\n",
              "    </tr>\n",
              "  </thead>\n",
              "  <tbody>\n",
              "    <tr>\n",
              "      <th>Cost</th>\n",
              "      <td>(117100000.0, $)</td>\n",
              "      <td>(None, $)</td>\n",
              "      <td>(89500000.0, $)</td>\n",
              "      <td>(32200000.0, $)</td>\n",
              "      <td>(None, $)</td>\n",
              "    </tr>\n",
              "    <tr>\n",
              "      <th>Cruise Mach</th>\n",
              "      <td>0.79</td>\n",
              "      <td>None</td>\n",
              "      <td>0.82</td>\n",
              "      <td>None</td>\n",
              "      <td>None</td>\n",
              "    </tr>\n",
              "    <tr>\n",
              "      <th>Cruise Speed</th>\n",
              "      <td>(839, kmh)</td>\n",
              "      <td>(900, kmh)</td>\n",
              "      <td>(829, kmh)</td>\n",
              "      <td>(667, kmh)</td>\n",
              "      <td>(None, kmh)</td>\n",
              "    </tr>\n",
              "    <tr>\n",
              "      <th>Engines</th>\n",
              "      <td>{'Type': 'CFM International LEAP 1B', 'Number'...</td>\n",
              "      <td>{'Type': 'GE9X-105B1A', 'Number': 2, 'OPR': 61...</td>\n",
              "      <td>{'Type': 'PW1500G', 'Number': 2, 'OPR': None, ...</td>\n",
              "      <td>{'Type': 'PW150A', 'Number': 2, 'OPR': None, '...</td>\n",
              "      <td>{'Type': None, 'Number': None, 'OPR': None, 'B...</td>\n",
              "    </tr>\n",
              "    <tr>\n",
              "      <th>Fuel Capacity</th>\n",
              "      <td>(25817, L)</td>\n",
              "      <td>(198000, L)</td>\n",
              "      <td>(21918, L)</td>\n",
              "      <td>(6530, L)</td>\n",
              "      <td>(None, L)</td>\n",
              "    </tr>\n",
              "    <tr>\n",
              "      <th>Max Seats</th>\n",
              "      <td>210</td>\n",
              "      <td>414</td>\n",
              "      <td>160</td>\n",
              "      <td>78</td>\n",
              "      <td>None</td>\n",
              "    </tr>\n",
              "    <tr>\n",
              "      <th>Range</th>\n",
              "      <td>(6570, km)</td>\n",
              "      <td>(14000, km)</td>\n",
              "      <td>(5920, km)</td>\n",
              "      <td>(2500, km)</td>\n",
              "      <td>(None, km)</td>\n",
              "    </tr>\n",
              "    <tr>\n",
              "      <th>Reference</th>\n",
              "      <td>https://en.wikipedia.org/wiki/Boeing_737_MAX</td>\n",
              "      <td>https://en.wikipedia.org/wiki/Boeing_777X</td>\n",
              "      <td>https://www.airbus.com/aircraft/passenger-airc...</td>\n",
              "      <td>https://www.airlines-inform.com/commercial-air...</td>\n",
              "      <td>None</td>\n",
              "    </tr>\n",
              "    <tr>\n",
              "      <th>Weight</th>\n",
              "      <td>{'Max Take Off': (82191, 'kg'), 'Max Landing':...</td>\n",
              "      <td>{'Max Take Off': (351500, 'kg'), 'Max Landing'...</td>\n",
              "      <td>{'Max Take Off': (67600, 'kg'), 'Max Landing':...</td>\n",
              "      <td>{'Max Take Off': (29260, 'kg'), 'Max Landing':...</td>\n",
              "      <td>{'Max Take Off': (None, 'kg'), 'Max Landing': ...</td>\n",
              "    </tr>\n",
              "    <tr>\n",
              "      <th>Wing Area</th>\n",
              "      <td>(127, m2)</td>\n",
              "      <td>(466.8, m2)</td>\n",
              "      <td>(112.3, m2)</td>\n",
              "      <td>(63.1, m2)</td>\n",
              "      <td>(None, m2)</td>\n",
              "    </tr>\n",
              "    <tr>\n",
              "      <th>Wing Span</th>\n",
              "      <td>(35.92, m)</td>\n",
              "      <td>(71.8, m)</td>\n",
              "      <td>(35.1, m)</td>\n",
              "      <td>(28.4, m)</td>\n",
              "      <td>(None, m)</td>\n",
              "    </tr>\n",
              "  </tbody>\n",
              "</table>\n",
              "</div>"
            ],
            "text/plain": [
              "                                                       737 Max 8  \\\n",
              "Cost                                            (117100000.0, $)   \n",
              "Cruise Mach                                                 0.79   \n",
              "Cruise Speed                                          (839, kmh)   \n",
              "Engines        {'Type': 'CFM International LEAP 1B', 'Number'...   \n",
              "Fuel Capacity                                         (25817, L)   \n",
              "Max Seats                                                    210   \n",
              "Range                                                 (6570, km)   \n",
              "Reference           https://en.wikipedia.org/wiki/Boeing_737_MAX   \n",
              "Weight         {'Max Take Off': (82191, 'kg'), 'Max Landing':...   \n",
              "Wing Area                                              (127, m2)   \n",
              "Wing Span                                             (35.92, m)   \n",
              "\n",
              "                                                          777-9X  \\\n",
              "Cost                                                   (None, $)   \n",
              "Cruise Mach                                                 None   \n",
              "Cruise Speed                                          (900, kmh)   \n",
              "Engines        {'Type': 'GE9X-105B1A', 'Number': 2, 'OPR': 61...   \n",
              "Fuel Capacity                                        (198000, L)   \n",
              "Max Seats                                                    414   \n",
              "Range                                                (14000, km)   \n",
              "Reference              https://en.wikipedia.org/wiki/Boeing_777X   \n",
              "Weight         {'Max Take Off': (351500, 'kg'), 'Max Landing'...   \n",
              "Wing Area                                            (466.8, m2)   \n",
              "Wing Span                                              (71.8, m)   \n",
              "\n",
              "                                                        A220-300  \\\n",
              "Cost                                             (89500000.0, $)   \n",
              "Cruise Mach                                                 0.82   \n",
              "Cruise Speed                                          (829, kmh)   \n",
              "Engines        {'Type': 'PW1500G', 'Number': 2, 'OPR': None, ...   \n",
              "Fuel Capacity                                         (21918, L)   \n",
              "Max Seats                                                    160   \n",
              "Range                                                 (5920, km)   \n",
              "Reference      https://www.airbus.com/aircraft/passenger-airc...   \n",
              "Weight         {'Max Take Off': (67600, 'kg'), 'Max Landing':...   \n",
              "Wing Area                                            (112.3, m2)   \n",
              "Wing Span                                              (35.1, m)   \n",
              "\n",
              "                                                     Dash-8-Q400  \\\n",
              "Cost                                             (32200000.0, $)   \n",
              "Cruise Mach                                                 None   \n",
              "Cruise Speed                                          (667, kmh)   \n",
              "Engines        {'Type': 'PW150A', 'Number': 2, 'OPR': None, '...   \n",
              "Fuel Capacity                                          (6530, L)   \n",
              "Max Seats                                                     78   \n",
              "Range                                                 (2500, km)   \n",
              "Reference      https://www.airlines-inform.com/commercial-air...   \n",
              "Weight         {'Max Take Off': (29260, 'kg'), 'Max Landing':...   \n",
              "Wing Area                                             (63.1, m2)   \n",
              "Wing Span                                              (28.4, m)   \n",
              "\n",
              "                                                           Empty  \n",
              "Cost                                                   (None, $)  \n",
              "Cruise Mach                                                 None  \n",
              "Cruise Speed                                         (None, kmh)  \n",
              "Engines        {'Type': None, 'Number': None, 'OPR': None, 'B...  \n",
              "Fuel Capacity                                          (None, L)  \n",
              "Max Seats                                                   None  \n",
              "Range                                                 (None, km)  \n",
              "Reference                                                   None  \n",
              "Weight         {'Max Take Off': (None, 'kg'), 'Max Landing': ...  \n",
              "Wing Area                                             (None, m2)  \n",
              "Wing Span                                              (None, m)  "
            ]
          },
          "metadata": {
            "tags": []
          }
        }
      ]
    },
    {
      "metadata": {
        "id": "oLMsS62I_1aN",
        "colab_type": "text"
      },
      "cell_type": "markdown",
      "source": [
        "## Propulsion System Performance\n",
        "The thrust specific fuel consumption (TSFC) of a thrust producing aircraft engine is given by\n",
        "\n",
        "$$ TSFC = \\frac{\\dot{m}_{fuel}}{T} $$\n",
        "\n",
        "$\\dot{m}_{fuel}$ is the mass flow rate of fuel, and $T$ is the engine thrust.  Typical metric units for $TSFC$ are $g / kN s$.\n",
        "\n",
        "The specific impulse of that same engine is given by\n",
        "\n",
        "$$ I_{sp} = \\frac{T}{\\dot{m}_{fuel} g}  = \\frac{1}{TSFC*g} $$\n",
        "\n",
        "$g$ is the gravitional acceleration (e.g. $9.8  m/s^2$). The $I_{sp}$ is typically expressed in units of seconds.\n",
        "\n",
        "For the above-specified units for $TSFC$, $I_{sp}$ in seconds may be calculated from the $TSFC$ per the below expression\n",
        "\n",
        "$$ I_{sp} = \\frac{1e6}{TSFC*g} $$\n",
        "\n",
        "## Aircraft Range Model \n",
        "The range of an aircraft may be estimated from the Breguet range equation, which is derived below for both aircraft that burn fuel and those that take on oxygen (e.g. metal-air battery). \n",
        "\n",
        "### Fuel-Consuming Aircraft\n",
        "The rate of change of mass of a fuel-consuming aircraft during flight is given by\n",
        "\n",
        "$$ -\\frac{dW}{dt} = g\\dot{m}_{f} = \\frac{T}{I_{sp}}. $$\n",
        "\n",
        "In steady level flight,\n",
        "\n",
        "\\begin{align}\n",
        "L & = W \\\\\n",
        "T & = D\n",
        "\\end{align}\n",
        "\n",
        "Hence, the required aircraft thrust may be expressed as a function of the weight and the aircraft lift to drag ratio.\n",
        "\n",
        "$$ W = L = D\\frac{L}{D} = T\\frac{L}{D} $$\n",
        "\n",
        "This expression may be inserted into the above differential equation for rate of change of aircraft mass during flight.\n",
        "\n",
        "$$ \\frac{dW}{dt} = -\\frac{W}{(L/D)I_{sp}} $$ \n",
        "\n",
        "$$ \\frac{dW}{W} = -\\frac{dt}{(L/D)I_{sp}} $$\n",
        "\n",
        "Both sides of the above expression may be integrated to yield and expression that relates the aircraft weight and flight duration.\n",
        "\n",
        "$$ \\ln\\frac{W}{W_0} = - \\frac{t}{(L/D)I_{sp}} $$\n",
        "\n",
        "$$ t_{f} = \\frac{L}{D}I_{sp}\\ln\\frac{W_0}{W_f} $$\n",
        "\n",
        "Knowing the cruise/flight velocity ($V$), the range ($R$) may be calculated.\n",
        "\n",
        "$$ R = t_{f}V = V \\frac{L}{D}I_{sp}\\ln\\frac{W_0}{W_f} $$\n",
        "\n",
        "$$ W_{f} = W_{0} - W_{fuel} $$\n",
        "\n",
        "$$ R_{fc} = t_{f}V = V \\frac{L}{D}I_{sp}\\ln\\frac{W_0}{W_{0} - W_{fuel}} $$\n",
        "\n",
        "Reference: [MIT Unified Notes](http://web.mit.edu/16.unified/www/FALL/thermodynamics/notes/node98.html)\n",
        "\n",
        "### Oxygen-Accumulating Aircraft\n",
        "The rate of change of mass of an oxygen-accumulating aircraft during flight is given by \n",
        "\n",
        "$$ \\frac{dW}{dt} = g\\dot{m}_{O_{2}} = \\frac{T}{I'_{sp}}. $$\n",
        "\n",
        "$$ I'_{sp} = \\frac{T}{\\dot{m}_{O_{2}}} $$\n",
        "\n",
        "In steady level flight,\n",
        "\n",
        "$$ \\frac{dW}{W} = \\frac{dt}{(L/D)I'_{sp}} $$\n",
        "\n",
        "Integrating both sides,\n",
        "\n",
        "$$ \\ln\\frac{W}{W_0} = \\frac{t}{(L/D)I'_{sp}} $$\n",
        "\n",
        "$$ t_{f} = \\frac{L}{D}I'_{sp}\\ln\\frac{W_f}{W_0} $$\n",
        "\n",
        "$$ W_{f} = W_{0} + W_{oxygen} $$\n",
        "\n",
        "$$ R_{oa} = t_{f}V = V \\frac{L}{D}I'_{sp}\\ln\\frac{W_{0} + W_{oxygen}}{W_{0}} $$\n",
        "\n",
        "### Fuel-consuming & Oxygen-accumulating Aircraft Comparison\n",
        "For identical aircraft range performance ($R_{fc} = R_{oa}$) and assuming identical airfame performance (i.e. constant $L/D$ & $V$),\n",
        "\n",
        "$$ I_{sp}\\ln\\frac{W_0}{W_{0} - W_{fuel}} = I'_{sp}\\ln\\frac{W_{0} + W_{oxygen}}{W_{0}} $$\n",
        "\n",
        "$$ \\frac{\\dot{m}_{O_{2}}}{\\dot{m}_{f}}= \\frac{\\ln\\frac{W_{0} + W_{oxygen}}{W_{0}}}{\\ln\\frac{W_0}{W_{0} - W_{fuel}}} $$\n",
        "\n",
        "In the overly simplistic scenario, where the total accumulated oxygen can have the same mass as the total consumed fuel,\n",
        "\n",
        "$$ W_{oxygen} = W_{fuel} = W_{consumables} $$\n",
        "\n",
        "Also, for simplicity\n",
        "\n",
        "$$ x = \\frac{W_{consumables}}{W_{0}}  $$\n",
        "\n",
        "$$ \\frac{\\dot{m}_{O_{2}}}{\\dot{m}_{f}} = \\frac{\\ln 1 + x}{\\ln\\frac{1}{1 - x}} $$\n",
        "\n",
        "$$ \\frac{\\dot{m}_{O_{2}}}{\\dot{m}_{f}} = - \\frac{\\ln 1 + x}{\\ln 1 - x} $$"
      ]
    },
    {
      "metadata": {
        "id": "QC8MSkq-_1aP",
        "colab_type": "code",
        "outputId": "fdef00fc-d9da-42ac-952a-794eefc6851d",
        "colab": {
          "base_uri": "https://localhost:8080/",
          "height": 392
        }
      },
      "cell_type": "code",
      "source": [
        "\"\"\"Calculate the oxygen to fuel mass consumption rate ratio required to match the performance of fuel-consuming\n",
        "and oxygen-accumulating aircraft as a function of the consumable mass fraction.\"\"\"\n",
        "\n",
        "# Consumable mass fraction\n",
        "eps = 1e-9\n",
        "x = np.linspace(eps,1-eps,500)\n",
        "\n",
        "# Consumption rate ratio for matched aircraft performance\n",
        "RateRatio = -np.log(1+x)/np.log(1-x)\n",
        "\n",
        "plt.figure(figsize=(8,6))\n",
        "plt.plot(x,RateRatio)\n",
        "plt.xlabel('Consumable Mass Fraction')\n",
        "plt.ylabel('Oxygen/Fuel Consumption Ratio for Matched AC Performance')\n",
        "plt.grid()\n",
        "plt.show()"
      ],
      "execution_count": 0,
      "outputs": [
        {
          "output_type": "display_data",
          "data": {
            "image/png": "[encoded data removed]",
            "text/plain": [
              "<Figure size 576x432 with 1 Axes>"
            ]
          },
          "metadata": {
            "tags": []
          }
        }
      ]
    },
    {
      "metadata": {
        "id": "HoMGnPlc_1aZ",
        "colab_type": "text"
      },
      "cell_type": "markdown",
      "source": [
        "### Estimate the Consumption Rates of the Consumables\n",
        "\n",
        "#### Fuel ($\\dot{m}_{f}$)\n",
        "For fuel consuming aircraft, the thrust power ($TV$) produced by the propulsion system may be expressed as\n",
        "\n",
        "$$ TV = \\frac{TV}{KE}\\frac{KE}{\\dot{m}_{f}LHV_{f}} $$\n",
        "\n",
        "In the above expression, $TV/KE$ is the propulsive efficiency ($\\eta_{p}$), and $KE/(\\dot{m}_{f}LHV_{f})$ is the thermal efficiency ($\\eta_{t}$).  Using these two definitions, the fuel flow rate required to produce the thrust power represented by $TV$ is given by\n",
        "\n",
        "$$ \\dot{m}_{f} = \\frac{TV}{LHV_{f}}\\frac{1}{\\eta_{p}\\eta_{t}} $$\n",
        "\n",
        "#### Oxygen ($\\dot{m}_{O_{2}}$)\n",
        "For oxygen accumulating aircraft, the thrust power ($TV$) produced by the propulsion system may be expressed as\n",
        "\n",
        "$$ TV = \\frac{TV}{P_{s}}\\frac{P_{s}}{P_{e}}\\frac{P_{e}}{\\dot{m}_{O_{2}}\\Delta G_{Li_2O}} $$\n",
        "\n",
        "In the above expression, $TV/P_{s}$ is the propeller/fan efficiency ($\\eta_{prop}$), $P_{s}/P_{e}$ is the electric motor efficiency ($\\eta_{motor}$), and $P_{e}/(\\dot{m}_{O_{2}}\\Delta G_{Li_2O})$ is the battery chemical to electric power conversion efficiency ($\\eta_{batt}$).  Using these definitions, the oxygen flow rate required to produce the thrust power represented by $TV$ is given by\n",
        "\n",
        "$$ \\dot{m}_{O_{2}} = \\frac{TV}{\\Delta G_{Li_2O}}\\frac{1}{\\eta_{prop}\\eta_{motor}\\eta_{batt}} $$\n",
        "\n",
        "#### Consumption Rate Ratio ($\\frac{\\dot{m}_{O_2}}{\\dot{m}_{f}}$) for Equivalent Thrust Powers ($TV$)\n",
        "For equivalent thrust powers, the ratio of the rate at which oxygen is accumulated to the rate at which fuel is consumed may be expressed as \n",
        "\n",
        "$$ \\frac{\\dot{m}_{O_{2}}}{\\dot{m}_{f}} = \\frac{LHV_{f}}{\\Delta G_{Li_2O}}\\frac{\\eta_{p}\\eta_{t}}{\\eta_{prop}\\eta_{motor}\\eta_{batt}} $$\n",
        "\n",
        "If the propulsive efficiency of the fuel-consuming system is assumed to be equal to the propeller efficiency of the oxygen-consuming system,\n",
        "\n",
        "$$ \\frac{\\dot{m}_{O_{2}}}{\\dot{m}_{f}} = \\frac{LHV_{f}}{\\Delta G_{Li_2O}}\\frac{\\eta_{t}}{\\eta_{motor}\\eta_{batt}} $$\n",
        "\n",
        "### $LHV_{f}$ and $\\Delta G_{Li_2O}$\n",
        "\n",
        "The lower heating values for a number of potential fuels are in the table below\n",
        "\n",
        "| Fuel | LHV (MJ/kg) |\n",
        "|------|------------|\n",
        "| Jet-A| 43.1 |\n",
        "| $H_{2}$| 120 |\n",
        "| $CH_{4}$| 50 |\n",
        "\n",
        "The Gibbs Free Energy of formation for a number of potential metal-air battery chemistries are illustrated in the [Ellingham Diagram](http://web.mit.edu/2.813/www/readings/Ellingham_diagrams.pdf) shown below.\n",
        "\n",
        "![Ellingham Diagram](Ellingham_Diagram.jpg)\n",
        "\n",
        "As can be seen from the figure, the Gibbs Free Energy of Formation for $4Li + O_{2} \\rightarrow 2Li_{2}O$ at $~100^{\\circ}C$ is $-1100 kJ/mol$ of $O_{2}$, which is approximately $-34.4 MJ/kg$ of $O_{2}$.\n",
        "\n"
      ]
    },
    {
      "metadata": {
        "id": "YUtTLAg1_1ac",
        "colab_type": "code",
        "colab": {}
      },
      "cell_type": "code",
      "source": [
        "class Fuel:\n",
        "    \"\"\"Fuel specification class\"\"\"\n",
        "    def __init__(self, name='Jet-A', LHV=(42,'MJ/kg'), density=(840,'kg/m3'), cost_volume_specific=(1.4,'$/L')):\n",
        "        self.name = name\n",
        "        self.LHV = LHV\n",
        "        self.density = density\n",
        "        self.cost_volume_specific = cost_volume_specific\n",
        "        \n",
        "    @property\n",
        "    def cost_energy_specific(self):\n",
        "        \"\"\"Calculate the energy-specific cost of fuel in $/kWh on a lower-heating-value basis.\"\"\"\n",
        "        return ( unit2SI(self.cost_volume_specific)/unit2SI(self.density)/unit2SI(self.LHV)*1000*3600, '$/kWh')"
      ],
      "execution_count": 0,
      "outputs": []
    },
    {
      "metadata": {
        "id": "l3I7tLVa_1ai",
        "colab_type": "code",
        "colab": {}
      },
      "cell_type": "code",
      "source": [
        "class Aircraft:\n",
        "    \"\"\"Aircraft class for data storage and estimation of flight performance characteristics\"\"\"\n",
        "    \n",
        "    def __init__(self,Type, AircraftData, Fuel=Fuel()):\n",
        "        \"\"\"Initialize the class by extracting performance data of interest for the aircraft specified by\n",
        "        Type from AircraftData\"\"\"\n",
        "        \n",
        "        if Type not in AircraftData.keys():\n",
        "            raise(\"Invalid aircraft type valid types include: {}\".format(AircraftData.keys()))\n",
        "            \n",
        "        self.Type = Type\n",
        "        self.Data = AircraftData\n",
        "        self.CruiseMach = AircraftData[Type]['Cruise Mach']\n",
        "        self.CruiseSpeed = AircraftData[Type]['Cruise Speed']\n",
        "        self.Weight = AircraftData[Type]['Weight']\n",
        "        self.WingArea = AircraftData[Type]['Wing Area']\n",
        "        self.FuelCapacity = AircraftData[Type]['Fuel Capacity']\n",
        "        self.Range = AircraftData[Type]['Range']\n",
        "        self.Engines = AircraftData[Type]['Engines']\n",
        "        self.Fuel = Fuel\n",
        "    \n",
        "    @property\n",
        "    def EngineOverallEfficiency(self):\n",
        "        return unit2SI(self.CruiseSpeed)/unit2SI(self.Engines['TSFC'])/unit2SI(self.Fuel.LHV)\n",
        "    \n",
        "    @property\n",
        "    def Isp(self):\n",
        "        \"\"\"Calculate the specific impulse in seconds\"\"\"\n",
        "        \n",
        "        if self.Engines['TSFC'][1] == 'g/kN/s':\n",
        "            Isp = (1e6 / self.Engines['TSFC'][0] / constants.g, 's')\n",
        "        else:\n",
        "            Isp = None    \n",
        "\n",
        "        return Isp\n",
        "    \n",
        "    @property\n",
        "    def MaxPayload(self):\n",
        "      return ( unit2SI(self.Weight['Max Zero Fuel']) - unit2SI(self.Weight['Operating Empty Weight']), 'kg')\n",
        "    \n",
        "    @property\n",
        "    def FuelMass(self):\n",
        "        # return ( unit2SI(self.FuelCapacity)*unit2SI(self.Fuel.density), 'kg')\n",
        "        return (unit2SI(self.Weight['Max Take Off']) - \n",
        "                unit2SI(self.Weight['Operating Empty Weight']) -\n",
        "                unit2SI(self.MaxPayload), 'kg')\n",
        "    \n",
        "    @property \n",
        "    def PropulsionMass(self):\n",
        "      return (self.Engines.Number * unit2SI(self.Engines.Weight), 'kg')\n",
        "      \n",
        "    @propety\n",
        "    def AircraftMass(self):\n",
        "      return \n",
        "    \n",
        "    def Lift2Drag(self, Fuel_TakeOff_MassRatio=None):\n",
        "        \"\"\"Estimate the aircraft lift to drag ratio from the available range \n",
        "        & weight performance data\"\"\"\n",
        "        \n",
        "        if Fuel_TakeOff_MassRatio is None:\n",
        "            # Estimate of final aircraft weight (Max Take Off - Fuel) using the nominal fuel capacity\n",
        "            FinalWeight = ( unit2SI(self.Weight['Max Take Off']) - unit2SI(self.FuelMass), 'kg' )\n",
        "        else:\n",
        "            # Calculate the final aircraft weight(s) at the specified fuel to take-off mass ratios\n",
        "            FinalWeight = ( unit2SI(self.Weight['Max Take Off']) * ( 1 - Fuel_TakeOff_MassRatio), 'kg')\n",
        "                    \n",
        "        return unit2SI(self.Range) / unit2SI(self.CruiseSpeed) / unit2SI(self.Isp) / np.log(\n",
        "            unit2SI(self.Weight['Max Take Off']) / unit2SI(FinalWeight))\n",
        "    \n",
        "    @property\n",
        "    def CruiseThrust(self):\n",
        "        return ( (unit2SI(self.Weight['Max Take Off']) - unit2SI(self.FuelMass)/2 ) *\\\n",
        "            constants.g /self.Lift2Drag() / 1000, 'kN' )\n",
        "        \n",
        "    @property \n",
        "    def FinalWeightEstimate(self,L_D):\n",
        "        \"\"\"Estimate the final weight given the lift to drag ratio \"\"\"\n"
      ],
      "execution_count": 0,
      "outputs": []
    },
    {
      "metadata": {
        "id": "wUXJrS2b_1an",
        "colab_type": "text"
      },
      "cell_type": "markdown",
      "source": [
        "## Baseline Aircraft Analysis"
      ]
    },
    {
      "metadata": {
        "id": "RQ9rMABA_1ap",
        "colab_type": "code",
        "outputId": "2d9c6b7a-fc4b-4a83-86d1-536625a4dd7b",
        "colab": {}
      },
      "cell_type": "code",
      "source": [
        "\"\"\"Specify the baseline aircraft\"\"\"\n",
        "BaseAC = Aircraft('737 Max 8', AircraftData)\n",
        "\n",
        "Markdown(\"\"\"\n",
        "The baseline aircraft is a {}.  It is capable of carrying {:.0f} kg of fuel.\n",
        "\"\"\".format(BaseAC.Type, BaseAC.FuelMass[0]))"
      ],
      "execution_count": 0,
      "outputs": [
        {
          "output_type": "execute_result",
          "data": {
            "text/markdown": "\nThe baseline aircraft is a 737 Max 8.  It is capable of carrying 21686 kg of fuel.\n",
            "text/plain": [
              "<IPython.core.display.Markdown object>"
            ]
          },
          "metadata": {
            "tags": []
          },
          "execution_count": 82
        }
      ]
    },
    {
      "metadata": {
        "id": "RiC3LDr7_1ax",
        "colab_type": "text"
      },
      "cell_type": "markdown",
      "source": [
        "### Estimate the Cruise Lift to Drag Ratio\n",
        "The cruise Lift to Drag Ratio ($L/D$) may be estimated from the above fuel consuming Brequet Range Equation and the range, speed, engine performance and weight data for the aircrat that are provided above."
      ]
    },
    {
      "metadata": {
        "id": "U7NvxAEd_1ay",
        "colab_type": "code",
        "outputId": "7d7375b0-c9ce-4fbc-fa3f-4bf856a22684",
        "colab": {}
      },
      "cell_type": "code",
      "source": [
        "Markdown(\"\"\"\n",
        "Given the nominal range, weight and engine performance data, the lift to drag ratio of the aircraft is \n",
        "estimated to be **{:.1f}**.\n",
        "\"\"\".format(BaseAC.Lift2Drag()))"
      ],
      "execution_count": 0,
      "outputs": [
        {
          "output_type": "execute_result",
          "data": {
            "text/markdown": "\nGiven the nominal range, weight and engine performance data, the lift to drag ratio of the aircraft is \nestimated to be **10.8**.\n",
            "text/plain": [
              "<IPython.core.display.Markdown object>"
            ]
          },
          "metadata": {
            "tags": []
          },
          "execution_count": 83
        }
      ]
    },
    {
      "metadata": {
        "id": "kks4FilJ_1a7",
        "colab_type": "code",
        "outputId": "92e0086f-7f78-4822-fa4e-1ff86c579f9b",
        "colab": {}
      },
      "cell_type": "code",
      "source": [
        "\"\"\"Evalute the sensitivity of the lift to drag ratio estimate to the fuel weight.\"\"\"\n",
        "Nominal_Fuel_GTOW_Mass_Ratio = unit2SI(BaseAC.FuelMass) / unit2SI(BaseAC.Weight['Max Take Off'])\n",
        "display('Nominal Fuel to GTO Mass Ratio = {:.2f}'.format(Nominal_Fuel_GTOW_Mass_Ratio))\n",
        "\n",
        "# Estimated cruise thrust with 50% of fuel burned @ nominal L/D\n",
        "display('Cruise Thrust = {}'.format(BaseAC.CruiseThrust))\n",
        "\n",
        "Fuel_GTOW_Mass_Ratio = np.linspace(0.5, 1.5, 50)*Nominal_Fuel_GTOW_Mass_Ratio\n",
        "\n",
        "Lift_Drag =  BaseAC.Lift2Drag(Fuel_GTOW_Mass_Ratio)\n",
        "\n",
        "plt.figure(figsize=(8,6))\n",
        "plt.plot(Fuel_GTOW_Mass_Ratio/Nominal_Fuel_GTOW_Mass_Ratio, Lift_Drag)\n",
        "plt.xlabel('$(M_{fuel}/M _{GTO}) / (M_{fuel}/M _{GTO})_{nominal}$')\n",
        "plt.ylabel('Lift / Drag')\n",
        "plt.grid()\n",
        "plt.show()"
      ],
      "execution_count": 0,
      "outputs": [
        {
          "output_type": "display_data",
          "data": {
            "text/plain": [
              "'Nominal Fuel to GTO Mass Ratio = 0.26'"
            ]
          },
          "metadata": {
            "tags": []
          }
        },
        {
          "output_type": "display_data",
          "data": {
            "text/plain": [
              "\"Cruise Thrust = (64.606383026569517, 'kN')\""
            ]
          },
          "metadata": {
            "tags": []
          }
        },
        {
          "output_type": "display_data",
          "data": {
            "image/png": "[encoded data removed]",
            "text/plain": [
              "<matplotlib.figure.Figure at 0x1104f8898>"
            ]
          },
          "metadata": {
            "tags": []
          }
        }
      ]
    },
    {
      "metadata": {
        "id": "DqMvIogm_1bA",
        "colab_type": "text"
      },
      "cell_type": "markdown",
      "source": [
        "### Overall propulsion system efficiency\n",
        "The overall propulsion system efficiency for engines specified in `BaseAC` may be simply calculated from the specified thrust-specific-fuel-consumption ($TSFC$)."
      ]
    },
    {
      "metadata": {
        "id": "qBKsGmmn_1bB",
        "colab_type": "code",
        "outputId": "96404d93-6048-49c5-ff24-8ab228008e5e",
        "colab": {}
      },
      "cell_type": "code",
      "source": [
        "Markdown(\"\"\"\n",
        "The overall efficiency of the **{}** engines on the **{}** is **{:.1f}%** and their specific impulse is **{:.0f}**\n",
        "seconds.\n",
        "\"\"\".format(BaseAC.Engines['Type'], BaseAC.Type, BaseAC.EngineOverallEfficiency*100, BaseAC.Isp[0]))"
      ],
      "execution_count": 0,
      "outputs": [
        {
          "output_type": "execute_result",
          "data": {
            "text/markdown": "\nThe overall efficiency of the **CFM International LEAP 1B** engines on the **737 Max 8** is **46.2%** and their specific impulse is **8498**\nseconds.\n",
            "text/plain": [
              "<IPython.core.display.Markdown object>"
            ]
          },
          "metadata": {
            "tags": []
          },
          "execution_count": 85
        }
      ]
    },
    {
      "metadata": {
        "id": "hC1ajkUC_1bG",
        "colab_type": "text"
      },
      "cell_type": "markdown",
      "source": [
        "### Energy-specific cost of Jet A\n",
        "The energy-specific cost of Jet-A may be readily calculated from the volume-specific cost (e.g.  $\\$/L$), the density (e.g. $kg/m^3$), and the LHV (e.g. $MJ/kg$)."
      ]
    },
    {
      "metadata": {
        "id": "ktYYHgRF_1bJ",
        "colab_type": "code",
        "outputId": "c96df0ae-1624-4745-d296-c8200893d846",
        "colab": {}
      },
      "cell_type": "code",
      "source": [
        "Markdown(\"\"\"\n",
        "The energy-specific cost of Jet-A is **{:.2f} {}**.\n",
        "\"\"\".format(*BaseAC.Fuel.cost_energy_specific))"
      ],
      "execution_count": 0,
      "outputs": [
        {
          "output_type": "execute_result",
          "data": {
            "text/markdown": "\nThe energy-specific cost of Jet-A is **0.14 $/kWh**.\n",
            "text/plain": [
              "<IPython.core.display.Markdown object>"
            ]
          },
          "metadata": {
            "tags": []
          },
          "execution_count": 86
        }
      ]
    },
    {
      "metadata": {
        "id": "YA35VEYp_1bR",
        "colab_type": "text"
      },
      "cell_type": "markdown",
      "source": [
        "### Estimate the levelized cost of thrust power\n",
        "The levelized cost of thrust energy for an aircraft has three main contributors:\n",
        "1. The capital cost of the engine,\n",
        "2. The cost of fuel, and\n",
        "3. The cost of maintenance.\n",
        "\n",
        "It is given by\n",
        "$$ LCOT = \\frac{C_{0}+\\sum_{i=1}^{N}\\frac{F_i+M_i}{\\left( 1+r \\right)^i}}{\\sum_{i=1}^{N}\\frac{TE_i}{\\left( 1+r \\right)^i}} $$\n",
        "\n",
        "\\begin{align}\n",
        "C_0 & = \\text{initial capital cost}, \\\\\n",
        "F_i & = \\text{annual fuel cost}, \\\\\n",
        "M_i & = \\text{annual maintenance cost}, \\\\\n",
        "TE_i & = \\text{annual thrust energy}, \\\\ \n",
        "r  & = \\text{discount rate},  \\\\\n",
        "N & =  \\text{system lifetime}.\n",
        "\\end{align}\n",
        "\n",
        "If $F_i$, $M_i$, and $TE_i$ are assumed constant for the life of the aircraft, they may be pulled out of the summations.  Additionally, the summation may be expressed as the discounted system lifetime ($\\Lambda$).\n",
        "\n",
        "$$ \\Lambda = \\sum_{i=1}^{N}\\frac{1}{\\left( 1+r \\right)^i} $$\n",
        "\n",
        "The $LCOT$ may then be written as \n",
        "\\begin{align}\n",
        "LCOT & = \\frac{C_{0}+\\Lambda\\left( F_i+M_i \\right)}{\\Lambda TE_i} \\\\\n",
        "& = \\frac{C_{0}}{\\Lambda U_i TP_i} + \\frac{c_{fuel}}{\\eta_{overall}} + c_{maint}\n",
        "\\end{align}\n",
        "\n",
        "$U_i$ is the annual utilization of the engine (e.g. in hours).  $TP_i$ is the average thrust power (e.g. in $kW$).  $c_{fuel}$ and $c_{maint}$ are the energy-specific fuel and maintenance costs of the engine. However, $c_{fuel}$ is fuel-energy-specific, and $c_{maint}$ is thrust-energy-specific.\n"
      ]
    },
    {
      "metadata": {
        "id": "0VVL2CtJ_1bT",
        "colab_type": "code",
        "outputId": "e26fb0d6-31ed-44e9-ded0-f4d267806779",
        "colab": {}
      },
      "cell_type": "code",
      "source": [
        "display(BaseAC.Engines)"
      ],
      "execution_count": 0,
      "outputs": [
        {
          "output_type": "display_data",
          "data": {
            "text/plain": [
              "{'BPR': 9,\n",
              " 'Cost': (14500000.0, '$'),\n",
              " 'Fan Diameter': (1.76, 'm'),\n",
              " 'Number': 2,\n",
              " 'OPR': 40,\n",
              " 'Reference': 'https://en.wikipedia.org/wiki/CFM_International_LEAP#cite_note-LEAP_Brochure-42',\n",
              " 'TSFC': (12, 'g/kN/s'),\n",
              " 'Thrust': {'Max Continuous': (127.62, 'kN'), 'Take Off': (130.41, 'kN')},\n",
              " 'Type': 'CFM International LEAP 1B',\n",
              " 'Weight': (2780, 'kg')}"
            ]
          },
          "metadata": {
            "tags": []
          }
        }
      ]
    },
    {
      "metadata": {
        "id": "1_jUgYFW_1bb",
        "colab_type": "code",
        "outputId": "c1830d1c-3cd8-4bbb-cd1e-30a4e0b2f81a",
        "colab": {}
      },
      "cell_type": "code",
      "source": [
        "\"\"\"Calculate engine quantities of interest\"\"\"\n",
        "\n",
        "# $ / kW of thrust power\n",
        "Cruise_Power = ( unit2SI(BaseAC.CruiseThrust) * unit2SI(BaseAC.CruiseSpeed) / 1e6, 'MW')\n",
        "display('737 Cruise power = {}'.format(Cruise_Power))\n",
        "\n",
        "# Engine power-specific cost ($/kW of cruise power)\n",
        "Power_Specific_Engine_Cost = ( unit2SI(BaseAC.Engines['Cost']) * BaseAC.Engines['Number'] / \n",
        "                               unit2SI(Cruise_Power) * 1000, '$/kW' )\n",
        "display('Thrust-Power-Specific Engine Cost = {}'.format(Power_Specific_Engine_Cost))"
      ],
      "execution_count": 0,
      "outputs": [
        {
          "output_type": "display_data",
          "data": {
            "text/plain": [
              "\"737 Cruise power = (15.056876488692174, 'MW')\""
            ]
          },
          "metadata": {
            "tags": []
          }
        },
        {
          "output_type": "display_data",
          "data": {
            "text/plain": [
              "\"Thrust-Power-Specific Engine Cost = (1926.030277380519, '$/kW')\""
            ]
          },
          "metadata": {
            "tags": []
          }
        }
      ]
    },
    {
      "metadata": {
        "id": "KGY20X5r_1bm",
        "colab_type": "code",
        "outputId": "b7409cac-a4cd-428a-bce1-89b1ad8b224b",
        "colab": {}
      },
      "cell_type": "code",
      "source": [
        "\"\"\"Aircraft operation and maintenance data\"\"\"\n",
        "Life = (30 ,'years')\n",
        "Annual_Flight_Hours = (3300, 'hours')\n",
        "\n",
        "# Discount rate for LCOT calculation\n",
        "r_discount = 0.15\n",
        "\n",
        "# Discounted system lifetime\n",
        "Lambda = ( np.sum(1 / (1+r_discount)**(np.linspace(1,Life[0],Life[0]))), 'years')\n",
        "display('Discounted System Lifetime = {:.0f} {}'.format(*Lambda))\n",
        "\n",
        "# SWAG Engine Maintenance Cost\n",
        "Hourly_Maint = (1000, '$/hr')\n",
        "\n",
        "# Energy Specific Maint\n",
        "c_maint = ( Hourly_Maint[0] / unit2SI(Cruise_Power) * 1000, '$/kWh')\n",
        "display('Energy-Specific Maintenance = {:.2f} {}'.format(*c_maint))\n",
        "\n",
        "# Levelized cost of thrust energy ($/kWh_thrust-energy)\n",
        "LCOT = ( Power_Specific_Engine_Cost[0] / Lambda[0] / Annual_Flight_Hours[0] +\n",
        "        BaseAC.Fuel.cost_energy_specific[0] / BaseAC.EngineOverallEfficiency +\n",
        "        c_maint[0], '$/kWh')\n",
        "    \n",
        "display('Levelized Cost of Thrust Energy = {:.2f} {}'.format(*LCOT))"
      ],
      "execution_count": 0,
      "outputs": [
        {
          "output_type": "display_data",
          "data": {
            "text/plain": [
              "'Discounted System Lifetime = 7 years'"
            ]
          },
          "metadata": {
            "tags": []
          }
        },
        {
          "output_type": "display_data",
          "data": {
            "text/plain": [
              "'Energy-Specific Maintenance = 0.07 $/kWh'"
            ]
          },
          "metadata": {
            "tags": []
          }
        },
        {
          "output_type": "display_data",
          "data": {
            "text/plain": [
              "'Levilized Cost of Thrust Energy = 0.46 $/kWh'"
            ]
          },
          "metadata": {
            "tags": []
          }
        }
      ]
    },
    {
      "metadata": {
        "id": "2OgZhCiF_1bs",
        "colab_type": "code",
        "colab": {}
      },
      "cell_type": "code",
      "source": [
        ""
      ],
      "execution_count": 0,
      "outputs": []
    }
  ]
}